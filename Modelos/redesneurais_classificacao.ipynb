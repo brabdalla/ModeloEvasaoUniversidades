{
  "cells": [
    {
      "cell_type": "code",
      "execution_count": null,
      "metadata": {
        "id": "dY7yOKvocMjz"
      },
      "outputs": [],
      "source": [
        "import numpy as np\n",
        "import pandas as pd\n",
        "import matplotlib.pyplot as plt\n",
        "%matplotlib inline\n",
        "import time\n",
        "\n",
        "from sklearn.model_selection import train_test_split\n",
        "from sklearn.metrics import classification_report,confusion_matrix"
      ]
    },
    {
      "cell_type": "code",
      "execution_count": null,
      "metadata": {
        "id": "S5gz5OD_cXMy"
      },
      "outputs": [],
      "source": [
        "df = pd.read_csv('../Dados/academicos_historico_balanceado.csv')\n",
        "df.head()"
      ]
    },
    {
      "cell_type": "code",
      "execution_count": null,
      "metadata": {},
      "outputs": [],
      "source": [
        "colunas = df.columns\n",
        "lista_colunas = list(df.columns)\n",
        "#len(lista_colunas)\n",
        "lista_colunas"
      ]
    },
    {
      "cell_type": "code",
      "execution_count": null,
      "metadata": {},
      "outputs": [],
      "source": [
        "lista_colunas.remove('chave')\n",
        "lista_colunas.remove('evadido')\n",
        "#len(lista_colunas)\n",
        "lista_colunas"
      ]
    },
    {
      "cell_type": "code",
      "execution_count": null,
      "metadata": {
        "id": "fg51DUmycjUa"
      },
      "outputs": [],
      "source": [
        "x = df[lista_colunas]\n",
        "y = df['evadido']"
      ]
    },
    {
      "cell_type": "code",
      "execution_count": null,
      "metadata": {
        "id": "5HIgQXP_cYHi"
      },
      "outputs": [],
      "source": [
        "X_train, X_test, y_train, y_test = train_test_split(x, y, test_size=0.3, random_state=18)"
      ]
    },
    {
      "cell_type": "code",
      "execution_count": null,
      "metadata": {
        "id": "PDIqIIHZcxRZ"
      },
      "outputs": [],
      "source": [
        "from sklearn.neural_network import MLPClassifier"
      ]
    },
    {
      "cell_type": "code",
      "execution_count": null,
      "metadata": {},
      "outputs": [],
      "source": [
        "\n",
        "\n",
        "inicio = time.time()  # Tempo inicial"
      ]
    },
    {
      "cell_type": "code",
      "execution_count": null,
      "metadata": {
        "id": "yb3wk7OdcyNC"
      },
      "outputs": [],
      "source": [
        "modelo = MLPClassifier(\n",
        "    hidden_layer_sizes=(16, 8),  # 16 neurônios na primeira e 8 na segunda camada oculta\n",
        "    activation='relu',\n",
        "    solver='adam',\n",
        "    learning_rate='constant',\n",
        "    learning_rate_init=0.001,\n",
        "    max_iter=500,\n",
        "    shuffle=True,\n",
        "    random_state=20,\n",
        "    validation_fraction=0.2,\n",
        "    verbose=True)"
      ]
    },
    {
      "cell_type": "code",
      "execution_count": null,
      "metadata": {
        "id": "E41WHxcQc4Ay"
      },
      "outputs": [],
      "source": [
        "modelo.fit(X_train, y_train)"
      ]
    },
    {
      "cell_type": "code",
      "execution_count": null,
      "metadata": {},
      "outputs": [],
      "source": [
        "fim = time.time()  # Tempo final\n",
        "tempo_execucao = fim - inicio\n",
        "\n",
        "print(f\"Tempo de execução: {tempo_execucao} segundos\")"
      ]
    },
    {
      "cell_type": "code",
      "execution_count": null,
      "metadata": {
        "id": "c_jOfFs6pz8A"
      },
      "outputs": [],
      "source": [
        "plt.plot(modelo.loss_curve_)\n",
        "plt.xlabel('Época')\n",
        "plt.ylabel('Loss')"
      ]
    },
    {
      "cell_type": "code",
      "execution_count": null,
      "metadata": {
        "id": "ie7Czj49dESt"
      },
      "outputs": [],
      "source": [
        "print('Dados de treinamento')\n",
        "\n",
        "predicao = modelo.predict(X_train)\n",
        "\n",
        "print(confusion_matrix(y_train,predicao))\n",
        "print(classification_report(y_train,predicao))"
      ]
    },
    {
      "cell_type": "code",
      "execution_count": null,
      "metadata": {
        "id": "L3UPD1qQqmCH"
      },
      "outputs": [],
      "source": [
        "print('Dados de teste')\n",
        "\n",
        "predicao = modelo.predict(X_test)\n",
        "\n",
        "print(confusion_matrix(y_test,predicao))\n",
        "print(classification_report(y_test,predicao))"
      ]
    },
    {
      "cell_type": "markdown",
      "metadata": {},
      "source": [
        "# Novo Teste"
      ]
    },
    {
      "cell_type": "code",
      "execution_count": null,
      "metadata": {},
      "outputs": [],
      "source": [
        "inicio = time.time()  # Tempo inicial"
      ]
    },
    {
      "cell_type": "code",
      "execution_count": null,
      "metadata": {},
      "outputs": [],
      "source": [
        "modelo = MLPClassifier(\n",
        "    hidden_layer_sizes=(24, 12, 6),  # 24 neurônios na primeira, 12 na segunda camada oculta, 6 na terceira camada oculta\n",
        "    activation='relu',\n",
        "    solver='adam',\n",
        "    learning_rate='constant',\n",
        "    learning_rate_init=0.001,\n",
        "    max_iter=500,\n",
        "    shuffle=True,\n",
        "    random_state=20,\n",
        "    validation_fraction=0.2,\n",
        "    verbose=True)"
      ]
    },
    {
      "cell_type": "code",
      "execution_count": null,
      "metadata": {},
      "outputs": [],
      "source": [
        "modelo.fit(X_train, y_train)"
      ]
    },
    {
      "cell_type": "code",
      "execution_count": null,
      "metadata": {},
      "outputs": [],
      "source": [
        "fim = time.time()  # Tempo final\n",
        "tempo_execucao = fim - inicio\n",
        "\n",
        "print(f\"Tempo de execução: {tempo_execucao} segundos\")"
      ]
    },
    {
      "cell_type": "code",
      "execution_count": null,
      "metadata": {},
      "outputs": [],
      "source": [
        "plt.plot(modelo.loss_curve_)\n",
        "plt.xlabel('Época')\n",
        "plt.ylabel('Loss')"
      ]
    },
    {
      "cell_type": "code",
      "execution_count": null,
      "metadata": {},
      "outputs": [],
      "source": [
        "print('Dados de treinamento')\n",
        "\n",
        "predicao = modelo.predict(X_train)\n",
        "\n",
        "print(confusion_matrix(y_train,predicao))\n",
        "print(classification_report(y_train,predicao))"
      ]
    },
    {
      "cell_type": "code",
      "execution_count": null,
      "metadata": {},
      "outputs": [],
      "source": [
        "print('Dados de teste')\n",
        "\n",
        "predicao = modelo.predict(X_test)\n",
        "\n",
        "print(confusion_matrix(y_test,predicao))\n",
        "print(classification_report(y_test,predicao))"
      ]
    }
  ],
  "metadata": {
    "colab": {
      "provenance": []
    },
    "kernelspec": {
      "display_name": "base",
      "language": "python",
      "name": "python3"
    },
    "language_info": {
      "codemirror_mode": {
        "name": "ipython",
        "version": 3
      },
      "file_extension": ".py",
      "mimetype": "text/x-python",
      "name": "python",
      "nbconvert_exporter": "python",
      "pygments_lexer": "ipython3",
      "version": "3.12.4"
    }
  },
  "nbformat": 4,
  "nbformat_minor": 0
}
