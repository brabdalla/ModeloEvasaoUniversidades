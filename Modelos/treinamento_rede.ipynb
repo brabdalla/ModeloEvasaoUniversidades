{
 "cells": [
  {
   "cell_type": "code",
   "execution_count": null,
   "metadata": {},
   "outputs": [],
   "source": [
    "from sklearn.neural_network import MLPClassifier\n",
    "from sklearn.model_selection import GridSearchCV\n",
    "from sklearn.model_selection import train_test_split\n",
    "from sklearn.metrics import classification_report,confusion_matrix\n",
    "import numpy as np\n",
    "import pandas as pd\n",
    "import matplotlib.pyplot as plt\n",
    "%matplotlib inline"
   ]
  },
  {
   "cell_type": "code",
   "execution_count": null,
   "metadata": {},
   "outputs": [],
   "source": [
    "df = pd.read_csv('../Dados/academicos_historico_balanceado.csv')\n",
    "df.head()"
   ]
  },
  {
   "cell_type": "code",
   "execution_count": null,
   "metadata": {},
   "outputs": [],
   "source": [
    "colunas = df.columns\n",
    "lista_colunas = list(df.columns)\n",
    "lista_colunas"
   ]
  },
  {
   "cell_type": "code",
   "execution_count": null,
   "metadata": {},
   "outputs": [],
   "source": [
    "lista_colunas.remove('chave')\n",
    "lista_colunas.remove('evadido')\n",
    "lista_colunas"
   ]
  },
  {
   "cell_type": "code",
   "execution_count": null,
   "metadata": {},
   "outputs": [],
   "source": [
    "x = df[lista_colunas]\n",
    "y = df['evadido']"
   ]
  },
  {
   "cell_type": "code",
   "execution_count": null,
   "metadata": {},
   "outputs": [],
   "source": [
    "X_train, X_test, y_train, y_test = train_test_split(x, y, test_size=0.2, random_state=18)"
   ]
  },
  {
   "cell_type": "code",
   "execution_count": null,
   "metadata": {},
   "outputs": [],
   "source": [
    "mlp = MLPClassifier(max_iter=100, random_state=20)"
   ]
  },
  {
   "cell_type": "code",
   "execution_count": null,
   "metadata": {},
   "outputs": [],
   "source": [
    "param_grid = {\n",
    "    'hidden_layer_sizes': [(24, 12, 6),(16, 8),(16, 8, 2),(32, 16, 8), (25,15,5), (128, 64, 32, 1)],  \n",
    "    'activation': ['relu', 'tanh'],  # Comparando ReLU e Tanh como função de ativação\n",
    "    'solver': ['adam'],  # Optando por Adam como solver\n",
    "    'learning_rate': ['constant', 'adaptive'],  # Comparando taxa de aprendizado constante e adaptativa\n",
    "    'learning_rate_init': [0.001, 0.01],  # Variando a taxa de aprendizado inicial\n",
    "    'shuffle': [True],\n",
    "    'validation_fraction': [0.2, 0.1]  # Testando diferentes frações de validação\n",
    "}\n"
   ]
  },
  {
   "cell_type": "code",
   "execution_count": null,
   "metadata": {},
   "outputs": [],
   "source": [
    "# Configurando o GridSearch com validação cruzada de 5 folds\n",
    "grid_search = GridSearchCV(mlp, param_grid, cv=5, verbose=2, n_jobs=-1)\n",
    "\n",
    "# Ajustando o GridSearch ao conjunto de dados (X_train, y_train)\n",
    "grid_search.fit(X_train, y_train)"
   ]
  },
  {
   "cell_type": "code",
   "execution_count": null,
   "metadata": {},
   "outputs": [],
   "source": [
    "# Exibindo os melhores parâmetros encontrados\n",
    "print(\"Melhores parâmetros encontrados pelo GridSearch:\")\n",
    "print(grid_search.best_params_)"
   ]
  },
  {
   "cell_type": "code",
   "execution_count": null,
   "metadata": {},
   "outputs": [],
   "source": [
    "import time\n",
    "inicio = time.time()  # Tempo inicial"
   ]
  },
  {
   "cell_type": "code",
   "execution_count": null,
   "metadata": {},
   "outputs": [],
   "source": [
    "# Treinando o modelo com os melhores parâmetros\n",
    "best_model = grid_search.best_estimator_\n",
    "\n",
    "# Avaliando o desempenho no conjunto de teste\n",
    "accuracy = best_model.score(X_test, y_test)\n",
    "print(f\"Acurácia do modelo otimizado: {accuracy:.4f}\")"
   ]
  },
  {
   "cell_type": "code",
   "execution_count": null,
   "metadata": {},
   "outputs": [],
   "source": [
    "fim = time.time()  # Tempo final\n",
    "tempo_execucao = fim - inicio\n",
    "\n",
    "print(f\"Tempo de execução: {tempo_execucao} segundos\")"
   ]
  },
  {
   "cell_type": "code",
   "execution_count": null,
   "metadata": {},
   "outputs": [],
   "source": [
    "print('Dados de treinamento')\n",
    "\n",
    "predicao = best_model.predict(X_train)\n",
    "\n",
    "print(confusion_matrix(y_train,predicao))\n",
    "print(classification_report(y_train,predicao))"
   ]
  },
  {
   "cell_type": "code",
   "execution_count": null,
   "metadata": {},
   "outputs": [],
   "source": [
    "print('Dados de teste')\n",
    "\n",
    "predicao = best_model.predict(X_test)\n",
    "\n",
    "print(confusion_matrix(y_test,predicao))\n",
    "print(classification_report(y_test,predicao))"
   ]
  }
 ],
 "metadata": {
  "kernelspec": {
   "display_name": "base",
   "language": "python",
   "name": "python3"
  },
  "language_info": {
   "codemirror_mode": {
    "name": "ipython",
    "version": 3
   },
   "file_extension": ".py",
   "mimetype": "text/x-python",
   "name": "python",
   "nbconvert_exporter": "python",
   "pygments_lexer": "ipython3",
   "version": "3.12.4"
  }
 },
 "nbformat": 4,
 "nbformat_minor": 2
}
