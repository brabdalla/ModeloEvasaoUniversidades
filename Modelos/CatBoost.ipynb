{
 "cells": [
  {
   "cell_type": "code",
   "execution_count": 1,
   "metadata": {},
   "outputs": [],
   "source": [
    "\n",
    "from sklearn.model_selection import train_test_split\n",
    "from catboost import CatBoostClassifier\n",
    "from sklearn.metrics import accuracy_score\n",
    "from sklearn.metrics import classification_report,confusion_matrix\n",
    "\n",
    "import numpy as np\n",
    "import pandas as pd\n",
    "import matplotlib.pyplot as plt"
   ]
  },
  {
   "cell_type": "code",
   "execution_count": 2,
   "metadata": {},
   "outputs": [],
   "source": [
    "df = pd.read_csv('academicos_historico_balanceado.csv')"
   ]
  },
  {
   "cell_type": "code",
   "execution_count": 3,
   "metadata": {},
   "outputs": [],
   "source": [
    "colunas = df.columns\n",
    "lista_colunas = list(df.columns)\n",
    "lista_colunas.remove('chave')\n",
    "lista_colunas.remove('evadido')"
   ]
  },
  {
   "cell_type": "code",
   "execution_count": 4,
   "metadata": {},
   "outputs": [],
   "source": [
    "x = df[lista_colunas]\n",
    "y = df['evadido']\n",
    "X_train, X_test, y_train, y_test = train_test_split(x, y, test_size=0.2, random_state=18)"
   ]
  },
  {
   "cell_type": "code",
   "execution_count": 5,
   "metadata": {},
   "outputs": [],
   "source": [
    "model = CatBoostClassifier(\n",
    "    iterations=100,               # Número de árvores a serem construídas\n",
    "    learning_rate=0.1,            # Taxa de aprendizado\n",
    "    depth=3,                      # Profundidade máxima das árvores\n",
    "    verbose=0,                    # Suppress output during training\n",
    "    random_seed=42                # Semente para reprodução dos resultados\n",
    ")\n"
   ]
  },
  {
   "cell_type": "code",
   "execution_count": 6,
   "metadata": {},
   "outputs": [],
   "source": [
    "import time\n",
    "inicio = time.time()  # Tempo inicial"
   ]
  },
  {
   "cell_type": "code",
   "execution_count": 7,
   "metadata": {},
   "outputs": [
    {
     "data": {
      "text/plain": [
       "<catboost.core.CatBoostClassifier at 0x1f220e27b00>"
      ]
     },
     "execution_count": 7,
     "metadata": {},
     "output_type": "execute_result"
    }
   ],
   "source": [
    "# Treinar o modelo com os dados de treinamento\n",
    "model.fit(X_train, y_train)"
   ]
  },
  {
   "cell_type": "code",
   "execution_count": 8,
   "metadata": {},
   "outputs": [
    {
     "name": "stdout",
     "output_type": "stream",
     "text": [
      "Tempo de execução: 0.500769853591919 segundos\n"
     ]
    }
   ],
   "source": [
    "fim = time.time()  # Tempo final\n",
    "tempo_execucao = fim - inicio\n",
    "\n",
    "print(f\"Tempo de execução: {tempo_execucao} segundos\")"
   ]
  },
  {
   "cell_type": "code",
   "execution_count": 9,
   "metadata": {},
   "outputs": [],
   "source": [
    "# Fazer previsões com os dados de teste\n",
    "y_pred = model.predict(X_test)"
   ]
  },
  {
   "cell_type": "code",
   "execution_count": 10,
   "metadata": {},
   "outputs": [
    {
     "name": "stdout",
     "output_type": "stream",
     "text": [
      "Acurácia: 0.88\n"
     ]
    }
   ],
   "source": [
    "# Avaliar a acurácia das previsões\n",
    "accuracy = accuracy_score(y_test, y_pred)\n",
    "print(f'Acurácia: {accuracy:.2f}')"
   ]
  },
  {
   "cell_type": "code",
   "execution_count": 11,
   "metadata": {},
   "outputs": [
    {
     "name": "stdout",
     "output_type": "stream",
     "text": [
      "Dados de treinamento\n",
      "[[7365 1247]\n",
      " [ 587 8052]]\n",
      "              precision    recall  f1-score   support\n",
      "\n",
      "           0       0.93      0.86      0.89      8612\n",
      "           1       0.87      0.93      0.90      8639\n",
      "\n",
      "    accuracy                           0.89     17251\n",
      "   macro avg       0.90      0.89      0.89     17251\n",
      "weighted avg       0.90      0.89      0.89     17251\n",
      "\n"
     ]
    }
   ],
   "source": [
    "print('Dados de treinamento')\n",
    "\n",
    "predicao = model.predict(X_train)\n",
    "\n",
    "print(confusion_matrix(y_train,predicao))\n",
    "print(classification_report(y_train,predicao))"
   ]
  },
  {
   "cell_type": "code",
   "execution_count": 12,
   "metadata": {},
   "outputs": [
    {
     "name": "stdout",
     "output_type": "stream",
     "text": [
      "Dados de teste\n",
      "[[1830  340]\n",
      " [ 157 1986]]\n",
      "              precision    recall  f1-score   support\n",
      "\n",
      "           0       0.92      0.84      0.88      2170\n",
      "           1       0.85      0.93      0.89      2143\n",
      "\n",
      "    accuracy                           0.88      4313\n",
      "   macro avg       0.89      0.89      0.88      4313\n",
      "weighted avg       0.89      0.88      0.88      4313\n",
      "\n"
     ]
    }
   ],
   "source": [
    "print('Dados de teste')\n",
    "\n",
    "predicao = model.predict(X_test)\n",
    "\n",
    "print(confusion_matrix(y_test,predicao))\n",
    "print(classification_report(y_test,predicao))"
   ]
  }
 ],
 "metadata": {
  "kernelspec": {
   "display_name": "base",
   "language": "python",
   "name": "python3"
  },
  "language_info": {
   "codemirror_mode": {
    "name": "ipython",
    "version": 3
   },
   "file_extension": ".py",
   "mimetype": "text/x-python",
   "name": "python",
   "nbconvert_exporter": "python",
   "pygments_lexer": "ipython3",
   "version": "3.12.4"
  }
 },
 "nbformat": 4,
 "nbformat_minor": 2
}
