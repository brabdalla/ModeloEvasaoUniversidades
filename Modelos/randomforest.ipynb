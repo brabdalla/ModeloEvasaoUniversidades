{
  "cells": [
    {
      "cell_type": "code",
      "execution_count": null,
      "metadata": {
        "id": "Z_vz9-u_WyUY"
      },
      "outputs": [],
      "source": [
        "import numpy as np\n",
        "import pandas as pd\n",
        "import matplotlib.pyplot as plt\n",
        "%matplotlib inline\n",
        "\n",
        "from sklearn.model_selection import train_test_split\n",
        "from sklearn.metrics import classification_report,confusion_matrix"
      ]
    },
    {
      "cell_type": "code",
      "execution_count": null,
      "metadata": {
        "id": "o594cCz1XJqh"
      },
      "outputs": [],
      "source": [
        "df = pd.read_csv('../Dados/academicos_historico_balanceado.csv')\n",
        "df.head()"
      ]
    },
    {
      "cell_type": "code",
      "execution_count": null,
      "metadata": {
        "id": "fanTKQskXKuB"
      },
      "outputs": [],
      "source": [
        "colunas = df.columns\n",
        "lista_colunas = list(df.columns)\n",
        "lista_colunas.remove('chave')\n",
        "lista_colunas.remove('evadido')\n",
        "x = df[lista_colunas]\n",
        "y = df['evadido']"
      ]
    },
    {
      "cell_type": "code",
      "execution_count": null,
      "metadata": {
        "id": "vi1wR0NNXPxg"
      },
      "outputs": [],
      "source": [
        "X_train, X_test, y_train, y_test = train_test_split(x, y, test_size=0.2, random_state=18)"
      ]
    },
    {
      "cell_type": "code",
      "execution_count": null,
      "metadata": {
        "id": "drLo8URJXfRo"
      },
      "outputs": [],
      "source": [
        "from sklearn.ensemble import RandomForestClassifier"
      ]
    },
    {
      "cell_type": "code",
      "execution_count": null,
      "metadata": {
        "id": "qdsN0ZdxXghY"
      },
      "outputs": [],
      "source": [
        "randomdorest = RandomForestClassifier(n_estimators=100)\n",
        "\n",
        "randomdorest.fit(X_train,y_train)"
      ]
    },
    {
      "cell_type": "code",
      "execution_count": null,
      "metadata": {},
      "outputs": [],
      "source": [
        "print('Dados de treinamento')\n",
        "\n",
        "predicao = randomdorest.predict(X_train)\n",
        "\n",
        "print(confusion_matrix(y_train,predicao))\n",
        "print(classification_report(y_train,predicao))"
      ]
    },
    {
      "cell_type": "code",
      "execution_count": null,
      "metadata": {
        "id": "G-pi2i-PXufW"
      },
      "outputs": [],
      "source": [
        "print('Dados de teste')\n",
        "\n",
        "predicao = randomdorest.predict(X_test)\n",
        "\n",
        "print(confusion_matrix(y_test,predicao))\n",
        "print(classification_report(y_test,predicao))"
      ]
    },
    {
      "cell_type": "code",
      "execution_count": null,
      "metadata": {},
      "outputs": [],
      "source": [
        "importances = randomdorest.feature_importances_\n",
        "for i, v in enumerate(importances):\n",
        "    print(f'Feature: {i}, Score: {v}')"
      ]
    },
    {
      "cell_type": "code",
      "execution_count": null,
      "metadata": {},
      "outputs": [],
      "source": [
        "from sklearn.model_selection import GridSearchCV\n",
        "param_grid = {\n",
        "    'n_estimators': [100, 200, 300],  # Número de árvores\n",
        "    'max_depth': [None, 10, 20, 30],  # Profundidade máxima\n",
        "    'min_samples_split': [2, 5, 10],  # Mínimo de amostras para dividir um nó\n",
        "    'min_samples_leaf': [1, 2, 4],    # Mínimo de amostras em uma folha\n",
        "    'bootstrap': [True, False]        # Usar ou não amostragem com reposição\n",
        "}\n",
        "\n",
        "# Criar o GridSearchCV\n",
        "grid_search = GridSearchCV(estimator=randomdorest, param_grid=param_grid, cv=3, n_jobs=-1, verbose=2, scoring='accuracy')"
      ]
    },
    {
      "cell_type": "code",
      "execution_count": null,
      "metadata": {},
      "outputs": [],
      "source": [
        "import time\n",
        "inicio = time.time()  # Tempo inicial"
      ]
    },
    {
      "cell_type": "code",
      "execution_count": null,
      "metadata": {},
      "outputs": [],
      "source": [
        "grid_search.fit(X_train, y_train)"
      ]
    },
    {
      "cell_type": "code",
      "execution_count": null,
      "metadata": {},
      "outputs": [],
      "source": [
        "fim = time.time()  # Tempo final\n",
        "tempo_execucao = fim - inicio\n",
        "\n",
        "print(f\"Tempo de execução: {tempo_execucao} segundos\")"
      ]
    },
    {
      "cell_type": "code",
      "execution_count": null,
      "metadata": {},
      "outputs": [],
      "source": [
        "# Melhor combinação de hiperparâmetros\n",
        "print(f'Melhores parâmetros: {grid_search.best_params_}')\n",
        "\n",
        "# Melhor modelo após ajuste de hiperparâmetros\n",
        "best_model = grid_search.best_estimator_"
      ]
    },
    {
      "cell_type": "code",
      "execution_count": null,
      "metadata": {},
      "outputs": [],
      "source": [
        "print('Dados de treinamento')\n",
        "\n",
        "predicao = randomdorest.predict(X_train)\n",
        "\n",
        "print(confusion_matrix(y_train,predicao))\n",
        "print(classification_report(y_train,predicao))"
      ]
    },
    {
      "cell_type": "code",
      "execution_count": null,
      "metadata": {},
      "outputs": [],
      "source": [
        "print('Dados de teste')\n",
        "\n",
        "inicio = time.time()\n",
        "\n",
        "predicao = randomdorest.predict(X_test)\n",
        "\n",
        "fim = time.time()  # Tempo final\n",
        "tempo_execucao = fim - inicio\n",
        "\n",
        "print(f\"Tempo de execução: {tempo_execucao} segundos\")\n",
        "\n",
        "print(confusion_matrix(y_test,predicao))\n",
        "print(classification_report(y_test,predicao))"
      ]
    }
  ],
  "metadata": {
    "colab": {
      "provenance": []
    },
    "kernelspec": {
      "display_name": "base",
      "language": "python",
      "name": "python3"
    },
    "language_info": {
      "codemirror_mode": {
        "name": "ipython",
        "version": 3
      },
      "file_extension": ".py",
      "mimetype": "text/x-python",
      "name": "python",
      "nbconvert_exporter": "python",
      "pygments_lexer": "ipython3",
      "version": "3.12.4"
    }
  },
  "nbformat": 4,
  "nbformat_minor": 0
}
